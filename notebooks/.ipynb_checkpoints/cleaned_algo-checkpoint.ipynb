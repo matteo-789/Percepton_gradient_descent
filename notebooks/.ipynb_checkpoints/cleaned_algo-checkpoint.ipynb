{
 "cells": [
  {
   "cell_type": "markdown",
   "metadata": {},
   "source": [
    "# Imports"
   ]
  },
  {
   "cell_type": "code",
   "execution_count": null,
   "metadata": {},
   "outputs": [],
   "source": [
    "import pandas as pd\n",
    "import numpy as np\n",
    "from tqdm import tqdm"
   ]
  },
  {
   "cell_type": "markdown",
   "metadata": {},
   "source": [
    "# Load and clean data"
   ]
  },
  {
   "cell_type": "code",
   "execution_count": null,
   "metadata": {},
   "outputs": [],
   "source": [
    "def load_csv(filepath):\n",
    "    return pd.read_csv(filepath)\n",
    "\n",
    "df = load_csv('../data/diabetes.csv')"
   ]
  },
  {
   "cell_type": "code",
   "execution_count": null,
   "metadata": {},
   "outputs": [],
   "source": [
    "# normalising the dataframe using the minmax method\n",
    "def normalise_df(df):\n",
    "    return (df - df.min()) / (df.max() - df.min())"
   ]
  },
  {
   "cell_type": "markdown",
   "metadata": {},
   "source": [
    "# Algo"
   ]
  },
  {
   "cell_type": "code",
   "execution_count": null,
   "metadata": {},
   "outputs": [],
   "source": [
    "LEARNING_RATE=0.1\n",
    "EPOCHS=1000\n",
    "\n",
    "\n",
    "# Using the sigmoid function with the hyperparameters (bias, weight)\n",
    "def predict(x, bias, weights):\n",
    "    yhat = bias\n",
    "    for i in range(len(x) - 1):\n",
    "        yhat += weights[i] * x[i]\n",
    "    return 1.0 / (1.0 + np.exp(-yhat))\n",
    "\n",
    "\n",
    "# Evaluating the best hyperparameters -> training the model (using gradient descent)\n",
    "def train(dataframe, learning_rate=LEARNING_RATE, epochs=EPOCHS):\n",
    "    weights = [0.0 for i in range(dataframe.shape[1] - 1)]\n",
    "    bias = 0.0\n",
    "    for epoch in tqdm(range(epochs)):\n",
    "        sum_error = 0\n",
    "        for index, row in dataframe.iterrows():\n",
    "            prediction = predict(row, bias, weights)\n",
    "            error = row[-1] - prediction\n",
    "            sum_error += error**2\n",
    "            bias = bias + learning_rate * error * prediction * (1.0 - prediction)\n",
    "            for i in range(len(row) - 1):\n",
    "                weights[i] = weights[i] + learning_rate * error * prediction * (1.0 - prediction) * row[i]\n",
    "    return bias, weights\n",
    "\n",
    "\n",
    "# Comparing the predictions to the expected results and estimates the model accuracy\n",
    "def compute_accuracy(predictions, expectations):\n",
    "    valid = 0\n",
    "    for index, value in enumerate(predictions):\n",
    "        if predictions[index] == expectations[index]:\n",
    "            valid += 1\n",
    "    mean = valid / len(predictions)\n",
    "    return mean * 100\n",
    "\n",
    "\n",
    "def evaluate_model(df):\n",
    "    normalised_df = normalise_df(df)\n",
    "    print('Training ...')\n",
    "    bias, weights = train(normalised_df)\n",
    "    predictions = [round(predict(row, bias, weights)) for index, row in normalised_df.iterrows()]\n",
    "    accuracy = compute_accuracy(predictions, df['Outcome'])\n",
    "    print('Traning done, model accuracy : %.2f%%' % accuracy)\n",
    "\n",
    "\n",
    "evaluate_model(df)"
   ]
  }
 ],
 "metadata": {
  "kernelspec": {
   "display_name": "Python 3 (ipykernel)",
   "language": "python",
   "name": "python3"
  },
  "language_info": {
   "codemirror_mode": {
    "name": "ipython",
    "version": 3
   },
   "file_extension": ".py",
   "mimetype": "text/x-python",
   "name": "python",
   "nbconvert_exporter": "python",
   "pygments_lexer": "ipython3",
   "version": "3.8.10"
  },
  "vscode": {
   "interpreter": {
    "hash": "383d8051341f5d298ddbadd0e4b8c4c981575bfc821e39544c00e4e4b123d9f8"
   }
  }
 },
 "nbformat": 4,
 "nbformat_minor": 2
}
